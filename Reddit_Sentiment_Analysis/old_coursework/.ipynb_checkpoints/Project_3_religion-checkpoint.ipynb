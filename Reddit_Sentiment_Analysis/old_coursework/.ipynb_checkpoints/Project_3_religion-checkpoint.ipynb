{
 "cells": [
  {
   "cell_type": "code",
   "execution_count": 2,
   "metadata": {},
   "outputs": [],
   "source": [
    "import pandas as pd\n",
    "import numpy as np\n",
    "import scipy as stats\n",
    "import seaborn as sns\n",
    "import matplotlib.pyplot as plt\n",
    "from sklearn.model_selection import train_test_split, cross_val_score\n",
    "from sklearn.preprocessing import StandardScaler, PolynomialFeatures\n",
    "from sklearn.linear_model import LogisticRegression, Ridge, Lasso, RidgeCV, LassoCV\n",
    "from sklearn.metrics import r2_score\n",
    "import requests\n",
    "import time\n",
    "import nltk\n",
    "from nltk import WordNetLemmatizer\n",
    "from sklearn.feature_extraction.text import CountVectorizer, TfidfVectorizer\n"
   ]
  },
  {
   "cell_type": "code",
   "execution_count": 61,
   "metadata": {},
   "outputs": [],
   "source": [
    "url = 'https://www.reddit.com/r/DunderMifflin.json' #why not the subreddit title?"
   ]
  },
  {
   "cell_type": "code",
   "execution_count": 62,
   "metadata": {},
   "outputs": [],
   "source": [
    "headers = {'User-agent': 'Michelle bot 0.1'}"
   ]
  },
  {
   "cell_type": "code",
   "execution_count": 63,
   "metadata": {},
   "outputs": [],
   "source": [
    "response = requests.get(url, headers=headers)"
   ]
  },
  {
   "cell_type": "code",
   "execution_count": 64,
   "metadata": {},
   "outputs": [
    {
     "data": {
      "text/plain": [
       "200"
      ]
     },
     "execution_count": 64,
     "metadata": {},
     "output_type": "execute_result"
    }
   ],
   "source": [
    "response.status_code"
   ]
  },
  {
   "cell_type": "code",
   "execution_count": 69,
   "metadata": {},
   "outputs": [],
   "source": [
    "the_json = response.json()"
   ]
  },
  {
   "cell_type": "code",
   "execution_count": 70,
   "metadata": {},
   "outputs": [
    {
     "data": {
      "text/plain": [
       "dict_keys(['kind', 'data'])"
      ]
     },
     "execution_count": 70,
     "metadata": {},
     "output_type": "execute_result"
    }
   ],
   "source": [
    "the_json.keys()"
   ]
  },
  {
   "cell_type": "code",
   "execution_count": 71,
   "metadata": {},
   "outputs": [
    {
     "data": {
      "text/plain": [
       "'Listing'"
      ]
     },
     "execution_count": 71,
     "metadata": {},
     "output_type": "execute_result"
    }
   ],
   "source": [
    "the_json['kind']"
   ]
  },
  {
   "cell_type": "code",
   "execution_count": 72,
   "metadata": {},
   "outputs": [
    {
     "data": {
      "text/plain": [
       "dict_keys(['modhash', 'dist', 'children', 'after', 'before'])"
      ]
     },
     "execution_count": 72,
     "metadata": {},
     "output_type": "execute_result"
    }
   ],
   "source": [
    "the_json['data'].keys()"
   ]
  },
  {
   "cell_type": "code",
   "execution_count": 84,
   "metadata": {},
   "outputs": [
    {
     "data": {
      "text/plain": [
       "'t3_b7gy1u'"
      ]
     },
     "execution_count": 84,
     "metadata": {},
     "output_type": "execute_result"
    }
   ],
   "source": [
    "the_json['data']['after']"
   ]
  },
  {
   "cell_type": "code",
   "execution_count": 75,
   "metadata": {},
   "outputs": [
    {
     "data": {
      "text/plain": [
       "27"
      ]
     },
     "execution_count": 75,
     "metadata": {},
     "output_type": "execute_result"
    }
   ],
   "source": [
    "len(the_json['data']['children'])"
   ]
  },
  {
   "cell_type": "code",
   "execution_count": 82,
   "metadata": {},
   "outputs": [
    {
     "data": {
      "text/plain": [
       "{'kind': 't3',\n",
       " 'data': {'approved_at_utc': None,\n",
       "  'subreddit': 'DunderMifflin',\n",
       "  'selftext': 'I\\'ve had to remove 20+ \"Man uses CPR technique he learned from The Office to save woman\\'s life\" posts today alone. It became national news and a lot of websites reported it, it immediately hit the front page. Even when it was top of the front page a few days ago, people were still posting it.\\n\\n*Please* check the sub before you post things like this. Check the front page, check \\'new\\', just take 10 seconds to glance and see if it\\'s already there first. If you want to earn an extra Schrute buck, you could even use the search bar!  If an article is a few days old and has thousands of views, chances are it\\'s already been posted and we\\'ll just remove your post. \\n\\n---\\n\\nAlso, quick reminder to [read the rules](https://i.redd.it/w9drnp65p5b11.gif) in the sidebar before submitting! We ask that users don\\'t post frequent or recent reposts, there\\'s no point clogging up the sub with content we\\'ve all already seen. \\n\\nThanks',\n",
       "  'author_fullname': 't2_732mx',\n",
       "  'saved': False,\n",
       "  'mod_reason_title': None,\n",
       "  'gilded': 0,\n",
       "  'clicked': False,\n",
       "  'title': \"[Mod Post] If you're posting a recent article, headline, tweet etc, please check the sub first to make sure it's not already been posted.\",\n",
       "  'link_flair_richtext': [],\n",
       "  'subreddit_name_prefixed': 'r/DunderMifflin',\n",
       "  'hidden': False,\n",
       "  'pwls': 6,\n",
       "  'link_flair_css_class': 'mod',\n",
       "  'downs': 0,\n",
       "  'thumbnail_height': None,\n",
       "  'hide_score': False,\n",
       "  'name': 't3_al4l0a',\n",
       "  'quarantine': False,\n",
       "  'link_flair_text_color': 'dark',\n",
       "  'author_flair_background_color': '',\n",
       "  'subreddit_type': 'public',\n",
       "  'ups': 439,\n",
       "  'domain': 'self.DunderMifflin',\n",
       "  'media_embed': {},\n",
       "  'thumbnail_width': None,\n",
       "  'author_flair_template_id': None,\n",
       "  'is_original_content': False,\n",
       "  'user_reports': [],\n",
       "  'secure_media': None,\n",
       "  'is_reddit_media_domain': False,\n",
       "  'is_meta': False,\n",
       "  'category': None,\n",
       "  'secure_media_embed': {},\n",
       "  'link_flair_text': 'Mod Post',\n",
       "  'can_mod_post': False,\n",
       "  'score': 439,\n",
       "  'approved_by': None,\n",
       "  'thumbnail': 'self',\n",
       "  'edited': False,\n",
       "  'author_flair_css_class': 'kevin',\n",
       "  'author_flair_richtext': [],\n",
       "  'gildings': {'gid_1': 0, 'gid_2': 0, 'gid_3': 0},\n",
       "  'post_hint': 'self',\n",
       "  'content_categories': None,\n",
       "  'is_self': True,\n",
       "  'mod_note': None,\n",
       "  'created': 1548795140.0,\n",
       "  'link_flair_type': 'text',\n",
       "  'wls': 6,\n",
       "  'banned_by': None,\n",
       "  'author_flair_type': 'text',\n",
       "  'contest_mode': False,\n",
       "  'selftext_html': '&lt;!-- SC_OFF --&gt;&lt;div class=\"md\"&gt;&lt;p&gt;I&amp;#39;ve had to remove 20+ &amp;quot;Man uses CPR technique he learned from The Office to save woman&amp;#39;s life&amp;quot; posts today alone. It became national news and a lot of websites reported it, it immediately hit the front page. Even when it was top of the front page a few days ago, people were still posting it.&lt;/p&gt;\\n\\n&lt;p&gt;&lt;em&gt;Please&lt;/em&gt; check the sub before you post things like this. Check the front page, check &amp;#39;new&amp;#39;, just take 10 seconds to glance and see if it&amp;#39;s already there first. If you want to earn an extra Schrute buck, you could even use the search bar!  If an article is a few days old and has thousands of views, chances are it&amp;#39;s already been posted and we&amp;#39;ll just remove your post. &lt;/p&gt;\\n\\n&lt;hr/&gt;\\n\\n&lt;p&gt;Also, quick reminder to &lt;a href=\"https://i.redd.it/w9drnp65p5b11.gif\"&gt;read the rules&lt;/a&gt; in the sidebar before submitting! We ask that users don&amp;#39;t post frequent or recent reposts, there&amp;#39;s no point clogging up the sub with content we&amp;#39;ve all already seen. &lt;/p&gt;\\n\\n&lt;p&gt;Thanks&lt;/p&gt;\\n&lt;/div&gt;&lt;!-- SC_ON --&gt;',\n",
       "  'likes': None,\n",
       "  'suggested_sort': None,\n",
       "  'banned_at_utc': None,\n",
       "  'view_count': None,\n",
       "  'archived': False,\n",
       "  'no_follow': False,\n",
       "  'is_crosspostable': False,\n",
       "  'pinned': False,\n",
       "  'over_18': False,\n",
       "  'preview': {'images': [{'source': {'url': 'https://external-preview.redd.it/7WxBpWt-F94rL-Wryt4mnvmJwqpZJ_pzRdommiH-Shw.gif?format=png8&amp;s=d8a4d9d5907313e97f1d74e2102122287eed5c9d',\n",
       "      'width': 200,\n",
       "      'height': 171},\n",
       "     'resolutions': [{'url': 'https://external-preview.redd.it/7WxBpWt-F94rL-Wryt4mnvmJwqpZJ_pzRdommiH-Shw.gif?width=108&amp;crop=smart&amp;format=png8&amp;s=34ca29232e5414d597ea5e6aaffbdafc334592a2',\n",
       "       'width': 108,\n",
       "       'height': 92}],\n",
       "     'variants': {'gif': {'source': {'url': 'https://external-preview.redd.it/7WxBpWt-F94rL-Wryt4mnvmJwqpZJ_pzRdommiH-Shw.gif?s=705767810613e64f228a582fdd4bb033358093fe',\n",
       "        'width': 200,\n",
       "        'height': 171},\n",
       "       'resolutions': [{'url': 'https://external-preview.redd.it/7WxBpWt-F94rL-Wryt4mnvmJwqpZJ_pzRdommiH-Shw.gif?width=108&amp;crop=smart&amp;s=3222e441cf3366802db0bca2c936dc5ab2e8c324',\n",
       "         'width': 108,\n",
       "         'height': 92}]},\n",
       "      'mp4': {'source': {'url': 'https://external-preview.redd.it/7WxBpWt-F94rL-Wryt4mnvmJwqpZJ_pzRdommiH-Shw.gif?format=mp4&amp;s=58c64635a97c44dc1a4c97e5500ba7e63ef46a23',\n",
       "        'width': 200,\n",
       "        'height': 171},\n",
       "       'resolutions': [{'url': 'https://external-preview.redd.it/7WxBpWt-F94rL-Wryt4mnvmJwqpZJ_pzRdommiH-Shw.gif?width=108&amp;format=mp4&amp;s=6eba6c5afc158172a3068ca82a063e5a787302b2',\n",
       "         'width': 108,\n",
       "         'height': 92}]}},\n",
       "     'id': 'h97-mj2_Yp7UVNRSJ9vobMqaxjkeWXPR9jUUMLmmUJw'}],\n",
       "   'enabled': True},\n",
       "  'media_only': False,\n",
       "  'link_flair_template_id': '66099bf4-9c79-11e8-8c9f-0efcf9385608',\n",
       "  'can_gild': False,\n",
       "  'spoiler': False,\n",
       "  'locked': False,\n",
       "  'author_flair_text': 'Why waste time say lot word when few word do trick?',\n",
       "  'visited': False,\n",
       "  'num_reports': None,\n",
       "  'distinguished': 'moderator',\n",
       "  'subreddit_id': 't5_2s9h3',\n",
       "  'mod_reason_by': None,\n",
       "  'removal_reason': None,\n",
       "  'link_flair_background_color': '',\n",
       "  'id': 'al4l0a',\n",
       "  'is_robot_indexable': True,\n",
       "  'report_reasons': None,\n",
       "  'author': 'lazenbooby',\n",
       "  'num_crossposts': 0,\n",
       "  'num_comments': 43,\n",
       "  'send_replies': True,\n",
       "  'whitelist_status': 'all_ads',\n",
       "  'mod_reports': [],\n",
       "  'author_patreon_flair': False,\n",
       "  'author_flair_text_color': 'dark',\n",
       "  'permalink': '/r/DunderMifflin/comments/al4l0a/mod_post_if_youre_posting_a_recent_article/',\n",
       "  'parent_whitelist_status': 'all_ads',\n",
       "  'stickied': True,\n",
       "  'url': 'https://www.reddit.com/r/DunderMifflin/comments/al4l0a/mod_post_if_youre_posting_a_recent_article/',\n",
       "  'subreddit_subscribers': 957492,\n",
       "  'created_utc': 1548795140.0,\n",
       "  'media': None,\n",
       "  'is_video': False}}"
      ]
     },
     "execution_count": 82,
     "metadata": {},
     "output_type": "execute_result"
    }
   ],
   "source": [
    "the_json['data']['children'][0] #why is index of 0 needed here as opposed to what riley had in video?"
   ]
  },
  {
   "cell_type": "code",
   "execution_count": 83,
   "metadata": {},
   "outputs": [
    {
     "data": {
      "text/plain": [
       "dict_keys(['kind', 'data'])"
      ]
     },
     "execution_count": 83,
     "metadata": {},
     "output_type": "execute_result"
    }
   ],
   "source": [
    "the_json['data']['children'][0].keys()"
   ]
  },
  {
   "cell_type": "code",
   "execution_count": 50,
   "metadata": {},
   "outputs": [
    {
     "data": {
      "text/plain": [
       "dict_keys(['approved_at_utc', 'subreddit', 'selftext', 'user_reports', 'saved', 'mod_reason_title', 'gilded', 'clicked', 'title', 'link_flair_richtext', 'subreddit_name_prefixed', 'hidden', 'pwls', 'link_flair_css_class', 'downs', 'thumbnail_height', 'parent_whitelist_status', 'hide_score', 'name', 'quarantine', 'link_flair_text_color', 'upvote_ratio', 'author_flair_background_color', 'subreddit_type', 'ups', 'domain', 'media_embed', 'thumbnail_width', 'author_flair_template_id', 'is_original_content', 'author_fullname', 'secure_media', 'is_reddit_media_domain', 'is_meta', 'category', 'secure_media_embed', 'link_flair_text', 'can_mod_post', 'score', 'approved_by', 'thumbnail', 'edited', 'author_flair_css_class', 'author_flair_richtext', 'gildings', 'post_hint', 'content_categories', 'is_self', 'mod_note', 'created', 'link_flair_type', 'wls', 'banned_by', 'author_flair_type', 'contest_mode', 'selftext_html', 'likes', 'suggested_sort', 'banned_at_utc', 'view_count', 'archived', 'no_follow', 'is_crosspostable', 'pinned', 'over_18', 'preview', 'media', 'media_only', 'can_gild', 'spoiler', 'locked', 'author_flair_text', 'visited', 'num_reports', 'distinguished', 'subreddit_id', 'mod_reason_by', 'removal_reason', 'link_flair_background_color', 'id', 'is_robot_indexable', 'report_reasons', 'author', 'num_crossposts', 'num_comments', 'send_replies', 'author_patreon_flair', 'author_flair_text_color', 'permalink', 'whitelist_status', 'stickied', 'url', 'subreddit_subscribers', 'created_utc', 'mod_reports', 'is_video'])"
      ]
     },
     "execution_count": 50,
     "metadata": {},
     "output_type": "execute_result"
    }
   ],
   "source": [
    "the_json[0]['data']['children'][0]['data'].keys()"
   ]
  },
  {
   "cell_type": "code",
   "execution_count": 92,
   "metadata": {},
   "outputs": [
    {
     "name": "stdout",
     "output_type": "stream",
     "text": [
      "0\n",
      "1\n",
      "2\n",
      "3\n"
     ]
    }
   ],
   "source": [
    "posts = []\n",
    "after = None\n",
    "for i in range(4):\n",
    "    print(i)\n",
    "    if after == None:\n",
    "        params = {}\n",
    "    else:\n",
    "        params = {'after': after}\n",
    "    url = 'https://www.reddit.com/r/DunderMifflin.json'\n",
    "    response = requests.get(url, params=params, headers=headers)\n",
    "    if response.status_code == 200:\n",
    "        the_json = response.json()\n",
    "        posts.extend(the_json['data']['children'])\n",
    "        after = the_json['data']['after']\n",
    "    else:\n",
    "        print(response.status_code)\n",
    "        break\n",
    "    time.sleep(1)"
   ]
  },
  {
   "cell_type": "code",
   "execution_count": 93,
   "metadata": {},
   "outputs": [
    {
     "data": {
      "text/plain": [
       "102"
      ]
     },
     "execution_count": 93,
     "metadata": {},
     "output_type": "execute_result"
    }
   ],
   "source": [
    "len(posts)"
   ]
  },
  {
   "cell_type": "code",
   "execution_count": 91,
   "metadata": {
    "scrolled": true
   },
   "outputs": [
    {
     "data": {
      "text/plain": [
       "['t3_al4l0a',\n",
       " 't3_ar0o3g',\n",
       " 't3_b7cudx',\n",
       " 't3_b7gje4',\n",
       " 't3_b7bfb1',\n",
       " 't3_b7bg8n',\n",
       " 't3_b7a2hf',\n",
       " 't3_b7ag1d',\n",
       " 't3_b7drsw',\n",
       " 't3_b7e8gj',\n",
       " 't3_b7au4r',\n",
       " 't3_b7hwll',\n",
       " 't3_b7fb9i',\n",
       " 't3_b7aupy',\n",
       " 't3_b7cuvy',\n",
       " 't3_b7bv9v',\n",
       " 't3_b7cakl',\n",
       " 't3_b7d1yd',\n",
       " 't3_b78k78',\n",
       " 't3_b7g04c',\n",
       " 't3_b7eyr3',\n",
       " 't3_b7alju',\n",
       " 't3_b7icio',\n",
       " 't3_b7i1zg',\n",
       " 't3_b7ibme',\n",
       " 't3_b7gy1u',\n",
       " 't3_b7cqp6',\n",
       " 't3_b7g9sn',\n",
       " 't3_b7dknf',\n",
       " 't3_b7iwh6',\n",
       " 't3_b7afk0',\n",
       " 't3_b7eec2',\n",
       " 't3_b77a9p',\n",
       " 't3_b7en6x',\n",
       " 't3_b7esjd',\n",
       " 't3_b7fokb',\n",
       " 't3_b7cgnz',\n",
       " 't3_b7gz0r',\n",
       " 't3_b7hz8i',\n",
       " 't3_b7bh8u',\n",
       " 't3_b7de4h',\n",
       " 't3_b7hiqu',\n",
       " 't3_b7ht57',\n",
       " 't3_b7hxg2',\n",
       " 't3_b76rdp',\n",
       " 't3_b7g68v',\n",
       " 't3_b7byem',\n",
       " 't3_b7d4i4',\n",
       " 't3_b7h92a',\n",
       " 't3_b7fzyq',\n",
       " 't3_b7huwj',\n",
       " 't3_b7iwd3',\n",
       " 't3_b7ca3k',\n",
       " 't3_b7i01x',\n",
       " 't3_b7g7zy',\n",
       " 't3_b7iije',\n",
       " 't3_b7it8b',\n",
       " 't3_b7gozq',\n",
       " 't3_b7fxn7',\n",
       " 't3_b7dpzp',\n",
       " 't3_b7df5d',\n",
       " 't3_b7eaqf',\n",
       " 't3_b7j14i',\n",
       " 't3_b7iwgg',\n",
       " 't3_b7hi8i',\n",
       " 't3_b7ezei',\n",
       " 't3_b7g5w9',\n",
       " 't3_b71zep',\n",
       " 't3_b7g39g',\n",
       " 't3_b76vdl',\n",
       " 't3_b7a6n2',\n",
       " 't3_b7ghw3',\n",
       " 't3_b7g23r',\n",
       " 't3_b7cduc',\n",
       " 't3_b7eqp2',\n",
       " 't3_b7ickh',\n",
       " 't3_b7gseo',\n",
       " 't3_b7ikxr',\n",
       " 't3_b7eskq',\n",
       " 't3_b77li8',\n",
       " 't3_b7iw94',\n",
       " 't3_b77h2c',\n",
       " 't3_b7iqwu',\n",
       " 't3_b7gd5b',\n",
       " 't3_b7j4a6',\n",
       " 't3_b7iipv',\n",
       " 't3_b7aqis',\n",
       " 't3_b7c2rc',\n",
       " 't3_b7itno',\n",
       " 't3_b7iscf',\n",
       " 't3_b77jzg',\n",
       " 't3_b7glds',\n",
       " 't3_b78w26',\n",
       " 't3_b7h3z9',\n",
       " 't3_b7e0n5',\n",
       " 't3_b7aicm',\n",
       " 't3_b7gbv0',\n",
       " 't3_b7ej0k',\n",
       " 't3_b7hpw0',\n",
       " 't3_b7eapg',\n",
       " 't3_b7gspr',\n",
       " 't3_b7esv0']"
      ]
     },
     "execution_count": 91,
     "metadata": {},
     "output_type": "execute_result"
    }
   ],
   "source": [
    "[p['data']['name'] for p in posts]"
   ]
  },
  {
   "cell_type": "code",
   "execution_count": null,
   "metadata": {},
   "outputs": [],
   "source": []
  }
 ],
 "metadata": {
  "kernelspec": {
   "display_name": "Python 3",
   "language": "python",
   "name": "python3"
  },
  "language_info": {
   "codemirror_mode": {
    "name": "ipython",
    "version": 3
   },
   "file_extension": ".py",
   "mimetype": "text/x-python",
   "name": "python",
   "nbconvert_exporter": "python",
   "pygments_lexer": "ipython3",
   "version": "3.6.5"
  }
 },
 "nbformat": 4,
 "nbformat_minor": 2
}
