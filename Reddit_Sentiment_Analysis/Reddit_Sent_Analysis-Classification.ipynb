{
 "cells": [
  {
   "cell_type": "markdown",
   "metadata": {},
   "source": [
    "# Reddit NLP Classification"
   ]
  },
  {
   "cell_type": "markdown",
   "metadata": {},
   "source": [
    "### Import Libraries"
   ]
  },
  {
   "cell_type": "code",
   "execution_count": 42,
   "metadata": {},
   "outputs": [],
   "source": [
    "import pandas as pd\n",
    "import numpy as np\n",
    "import scipy as stats\n",
    "\n",
    "import seaborn as sns\n",
    "import matplotlib.pyplot as plt\n",
    "\n",
    "from sklearn.model_selection import train_test_split, cross_val_score\n",
    "from sklearn.preprocessing import StandardScaler\n",
    "from sklearn.linear_model import LogisticRegression, Ridge, Lasso\n",
    "from sklearn.naive_bayes import MultinomialNB\n",
    "from sklearn.metrics import r2_score, confusion_matrix, roc_auc_score\n",
    "\n",
    "import requests\n",
    "import time\n",
    "from bs4 import BeautifulSoup\n",
    "\n",
    "import nltk\n",
    "from nltk import WordNetLemmatizer\n",
    "from nltk.corpus import stopwords\n",
    "from sklearn.feature_extraction import text\n",
    "from sklearn.feature_extraction.text import CountVectorizer, TfidfVectorizer\n",
    "from nltk.stem.porter import PorterStemmer\n",
    "import regex as re"
   ]
  },
  {
   "cell_type": "markdown",
   "metadata": {},
   "source": [
    "### Read in dataframe"
   ]
  },
  {
   "cell_type": "code",
   "execution_count": 43,
   "metadata": {},
   "outputs": [],
   "source": [
    "df = pd.read_pickle('./df.pkl')"
   ]
  },
  {
   "cell_type": "code",
   "execution_count": 44,
   "metadata": {},
   "outputs": [
    {
     "data": {
      "text/html": [
       "<div>\n",
       "<style scoped>\n",
       "    .dataframe tbody tr th:only-of-type {\n",
       "        vertical-align: middle;\n",
       "    }\n",
       "\n",
       "    .dataframe tbody tr th {\n",
       "        vertical-align: top;\n",
       "    }\n",
       "\n",
       "    .dataframe thead th {\n",
       "        text-align: right;\n",
       "    }\n",
       "</style>\n",
       "<table border=\"1\" class=\"dataframe\">\n",
       "  <thead>\n",
       "    <tr style=\"text-align: right;\">\n",
       "      <th></th>\n",
       "      <th>id</th>\n",
       "      <th>title</th>\n",
       "      <th>author</th>\n",
       "      <th>created</th>\n",
       "      <th>selftext</th>\n",
       "      <th>url</th>\n",
       "      <th>subreddit</th>\n",
       "    </tr>\n",
       "  </thead>\n",
       "  <tbody>\n",
       "    <tr>\n",
       "      <th>0</th>\n",
       "      <td>b98dv9</td>\n",
       "      <td>Bibleman has been rebooted, and the villains o...</td>\n",
       "      <td>0</td>\n",
       "      <td>1.55435e+09</td>\n",
       "      <td></td>\n",
       "      <td>https://pureflix.com/series/267433510476/bible...</td>\n",
       "      <td>0</td>\n",
       "    </tr>\n",
       "    <tr>\n",
       "      <th>1</th>\n",
       "      <td>b9b45i</td>\n",
       "      <td>Roughly half of Americans think Christian nati...</td>\n",
       "      <td>0</td>\n",
       "      <td>1.55437e+09</td>\n",
       "      <td></td>\n",
       "      <td>https://www.lgbtqnation.com/2019/04/roughly-ha...</td>\n",
       "      <td>0</td>\n",
       "    </tr>\n",
       "    <tr>\n",
       "      <th>2</th>\n",
       "      <td>b9enrm</td>\n",
       "      <td>Anti-vaxxer ‘warrior mom’: If vaccines are so ...</td>\n",
       "      <td>0</td>\n",
       "      <td>1.55439e+09</td>\n",
       "      <td></td>\n",
       "      <td>http://deadstate.org/anti-vaxxer-warrior-mom-i...</td>\n",
       "      <td>0</td>\n",
       "    </tr>\n",
       "    <tr>\n",
       "      <th>3</th>\n",
       "      <td>b9dmqn</td>\n",
       "      <td>Megachurch preachers and their expensive sneak...</td>\n",
       "      <td>0</td>\n",
       "      <td>1.55439e+09</td>\n",
       "      <td></td>\n",
       "      <td>https://boingboing.net/2019/04/03/megachurch-p...</td>\n",
       "      <td>0</td>\n",
       "    </tr>\n",
       "    <tr>\n",
       "      <th>4</th>\n",
       "      <td>b95ydy</td>\n",
       "      <td>Mormons say “Priesthood ban”, to describe thei...</td>\n",
       "      <td>0</td>\n",
       "      <td>1.55434e+09</td>\n",
       "      <td></td>\n",
       "      <td>https://www.dialoguejournal.com/wp-content/upl...</td>\n",
       "      <td>0</td>\n",
       "    </tr>\n",
       "  </tbody>\n",
       "</table>\n",
       "</div>"
      ],
      "text/plain": [
       "       id                                              title author  \\\n",
       "0  b98dv9  Bibleman has been rebooted, and the villains o...      0   \n",
       "1  b9b45i  Roughly half of Americans think Christian nati...      0   \n",
       "2  b9enrm  Anti-vaxxer ‘warrior mom’: If vaccines are so ...      0   \n",
       "3  b9dmqn  Megachurch preachers and their expensive sneak...      0   \n",
       "4  b95ydy  Mormons say “Priesthood ban”, to describe thei...      0   \n",
       "\n",
       "       created selftext                                                url  \\\n",
       "0  1.55435e+09           https://pureflix.com/series/267433510476/bible...   \n",
       "1  1.55437e+09           https://www.lgbtqnation.com/2019/04/roughly-ha...   \n",
       "2  1.55439e+09           http://deadstate.org/anti-vaxxer-warrior-mom-i...   \n",
       "3  1.55439e+09           https://boingboing.net/2019/04/03/megachurch-p...   \n",
       "4  1.55434e+09           https://www.dialoguejournal.com/wp-content/upl...   \n",
       "\n",
       "   subreddit  \n",
       "0          0  \n",
       "1          0  \n",
       "2          0  \n",
       "3          0  \n",
       "4          0  "
      ]
     },
     "execution_count": 44,
     "metadata": {},
     "output_type": "execute_result"
    }
   ],
   "source": [
    "df.head()"
   ]
  },
  {
   "cell_type": "code",
   "execution_count": 45,
   "metadata": {
    "scrolled": true
   },
   "outputs": [
    {
     "data": {
      "text/plain": [
       "(1914, 7)"
      ]
     },
     "execution_count": 45,
     "metadata": {},
     "output_type": "execute_result"
    }
   ],
   "source": [
    "df.shape"
   ]
  },
  {
   "cell_type": "markdown",
   "metadata": {},
   "source": [
    "## Classification"
   ]
  },
  {
   "cell_type": "markdown",
   "metadata": {},
   "source": [
    "### Train-Test Split"
   ]
  },
  {
   "cell_type": "code",
   "execution_count": 46,
   "metadata": {},
   "outputs": [],
   "source": [
    "X = df[['title', 'selftext', 'url']]\n",
    "y = df['subreddit']\n",
    "X_train, X_test, y_train, y_test = train_test_split(X, y, random_state = 42, stratify= y)"
   ]
  },
  {
   "cell_type": "code",
   "execution_count": 47,
   "metadata": {
    "scrolled": true
   },
   "outputs": [
    {
     "data": {
      "text/html": [
       "<div>\n",
       "<style scoped>\n",
       "    .dataframe tbody tr th:only-of-type {\n",
       "        vertical-align: middle;\n",
       "    }\n",
       "\n",
       "    .dataframe tbody tr th {\n",
       "        vertical-align: top;\n",
       "    }\n",
       "\n",
       "    .dataframe thead th {\n",
       "        text-align: right;\n",
       "    }\n",
       "</style>\n",
       "<table border=\"1\" class=\"dataframe\">\n",
       "  <thead>\n",
       "    <tr style=\"text-align: right;\">\n",
       "      <th></th>\n",
       "      <th>title</th>\n",
       "      <th>selftext</th>\n",
       "      <th>url</th>\n",
       "    </tr>\n",
       "  </thead>\n",
       "  <tbody>\n",
       "    <tr>\n",
       "      <th>0</th>\n",
       "      <td>Bibleman has been rebooted, and the villains o...</td>\n",
       "      <td></td>\n",
       "      <td>https://pureflix.com/series/267433510476/bible...</td>\n",
       "    </tr>\n",
       "    <tr>\n",
       "      <th>1</th>\n",
       "      <td>Roughly half of Americans think Christian nati...</td>\n",
       "      <td></td>\n",
       "      <td>https://www.lgbtqnation.com/2019/04/roughly-ha...</td>\n",
       "    </tr>\n",
       "    <tr>\n",
       "      <th>2</th>\n",
       "      <td>Anti-vaxxer ‘warrior mom’: If vaccines are so ...</td>\n",
       "      <td></td>\n",
       "      <td>http://deadstate.org/anti-vaxxer-warrior-mom-i...</td>\n",
       "    </tr>\n",
       "    <tr>\n",
       "      <th>3</th>\n",
       "      <td>Megachurch preachers and their expensive sneak...</td>\n",
       "      <td></td>\n",
       "      <td>https://boingboing.net/2019/04/03/megachurch-p...</td>\n",
       "    </tr>\n",
       "    <tr>\n",
       "      <th>4</th>\n",
       "      <td>Mormons say “Priesthood ban”, to describe thei...</td>\n",
       "      <td></td>\n",
       "      <td>https://www.dialoguejournal.com/wp-content/upl...</td>\n",
       "    </tr>\n",
       "  </tbody>\n",
       "</table>\n",
       "</div>"
      ],
      "text/plain": [
       "                                               title selftext  \\\n",
       "0  Bibleman has been rebooted, and the villains o...            \n",
       "1  Roughly half of Americans think Christian nati...            \n",
       "2  Anti-vaxxer ‘warrior mom’: If vaccines are so ...            \n",
       "3  Megachurch preachers and their expensive sneak...            \n",
       "4  Mormons say “Priesthood ban”, to describe thei...            \n",
       "\n",
       "                                                 url  \n",
       "0  https://pureflix.com/series/267433510476/bible...  \n",
       "1  https://www.lgbtqnation.com/2019/04/roughly-ha...  \n",
       "2  http://deadstate.org/anti-vaxxer-warrior-mom-i...  \n",
       "3  https://boingboing.net/2019/04/03/megachurch-p...  \n",
       "4  https://www.dialoguejournal.com/wp-content/upl...  "
      ]
     },
     "execution_count": 47,
     "metadata": {},
     "output_type": "execute_result"
    }
   ],
   "source": [
    "X.head()"
   ]
  },
  {
   "cell_type": "code",
   "execution_count": 48,
   "metadata": {},
   "outputs": [
    {
     "data": {
      "text/html": [
       "<div>\n",
       "<style scoped>\n",
       "    .dataframe tbody tr th:only-of-type {\n",
       "        vertical-align: middle;\n",
       "    }\n",
       "\n",
       "    .dataframe tbody tr th {\n",
       "        vertical-align: top;\n",
       "    }\n",
       "\n",
       "    .dataframe thead th {\n",
       "        text-align: right;\n",
       "    }\n",
       "</style>\n",
       "<table border=\"1\" class=\"dataframe\">\n",
       "  <thead>\n",
       "    <tr style=\"text-align: right;\">\n",
       "      <th></th>\n",
       "      <th>title</th>\n",
       "      <th>selftext</th>\n",
       "      <th>url</th>\n",
       "    </tr>\n",
       "  </thead>\n",
       "  <tbody>\n",
       "    <tr>\n",
       "      <th>397</th>\n",
       "      <td>What bible should I get?</td>\n",
       "      <td>I have the New American Bible from the 80s and...</td>\n",
       "      <td>https://www.reddit.com/r/Catholicism/comments/...</td>\n",
       "    </tr>\n",
       "    <tr>\n",
       "      <th>37</th>\n",
       "      <td>Why Atheists Struggle To Come Out In Africa An...</td>\n",
       "      <td></td>\n",
       "      <td>http://www.opinionnigeria.com/%EF%BB%BFwhy-ath...</td>\n",
       "    </tr>\n",
       "    <tr>\n",
       "      <th>953</th>\n",
       "      <td>Thank and Praise The Lord For All Things</td>\n",
       "      <td>The late Merlyn Carothers has written many boo...</td>\n",
       "      <td>https://www.reddit.com/r/Catholicism/comments/...</td>\n",
       "    </tr>\n",
       "    <tr>\n",
       "      <th>417</th>\n",
       "      <td>[Free Friday] Classic Wisconsin Friday night f...</td>\n",
       "      <td></td>\n",
       "      <td>https://i.redd.it/tofpekn9i6p21.jpg</td>\n",
       "    </tr>\n",
       "    <tr>\n",
       "      <th>78</th>\n",
       "      <td>We made it : surviving cancer together</td>\n",
       "      <td></td>\n",
       "      <td>https://www.thelifesource.org/all/we-made-it-s...</td>\n",
       "    </tr>\n",
       "  </tbody>\n",
       "</table>\n",
       "</div>"
      ],
      "text/plain": [
       "                                                 title  \\\n",
       "397                           What bible should I get?   \n",
       "37   Why Atheists Struggle To Come Out In Africa An...   \n",
       "953           Thank and Praise The Lord For All Things   \n",
       "417  [Free Friday] Classic Wisconsin Friday night f...   \n",
       "78              We made it : surviving cancer together   \n",
       "\n",
       "                                              selftext  \\\n",
       "397  I have the New American Bible from the 80s and...   \n",
       "37                                                       \n",
       "953  The late Merlyn Carothers has written many boo...   \n",
       "417                                                      \n",
       "78                                                       \n",
       "\n",
       "                                                   url  \n",
       "397  https://www.reddit.com/r/Catholicism/comments/...  \n",
       "37   http://www.opinionnigeria.com/%EF%BB%BFwhy-ath...  \n",
       "953  https://www.reddit.com/r/Catholicism/comments/...  \n",
       "417                https://i.redd.it/tofpekn9i6p21.jpg  \n",
       "78   https://www.thelifesource.org/all/we-made-it-s...  "
      ]
     },
     "execution_count": 48,
     "metadata": {},
     "output_type": "execute_result"
    }
   ],
   "source": [
    "X_train.head()"
   ]
  },
  {
   "cell_type": "markdown",
   "metadata": {},
   "source": [
    "## Term-frequency Inverse Document-frequency (TF-IDF)"
   ]
  },
  {
   "cell_type": "markdown",
   "metadata": {},
   "source": [
    "### Remove `stop_words`\n",
    "- identify and remove additional `stop_words` that are not listed by default in `nltk stop_words` library, and other common words that may not help in classification."
   ]
  },
  {
   "cell_type": "code",
   "execution_count": 49,
   "metadata": {},
   "outputs": [],
   "source": [
    "my_stop_words = text.ENGLISH_STOP_WORDS.union([])"
   ]
  },
  {
   "cell_type": "code",
   "execution_count": 50,
   "metadata": {},
   "outputs": [],
   "source": [
    "tvec = TfidfVectorizer(lowercase=True, tokenizer=None, max_features=2000)"
   ]
  },
  {
   "cell_type": "code",
   "execution_count": 51,
   "metadata": {},
   "outputs": [],
   "source": [
    "X_train_tvec = tvec.fit_transform(X_train)\n",
    "X_test_tvec = tvec.transform(X_test)"
   ]
  },
  {
   "cell_type": "code",
   "execution_count": 53,
   "metadata": {},
   "outputs": [],
   "source": [
    "# Change sentence vectors into one array for dataframe\n",
    "X_train_tvec = X_train_tvec.toarray()"
   ]
  },
  {
   "cell_type": "code",
   "execution_count": 54,
   "metadata": {},
   "outputs": [
    {
     "data": {
      "text/html": [
       "<div>\n",
       "<style scoped>\n",
       "    .dataframe tbody tr th:only-of-type {\n",
       "        vertical-align: middle;\n",
       "    }\n",
       "\n",
       "    .dataframe tbody tr th {\n",
       "        vertical-align: top;\n",
       "    }\n",
       "\n",
       "    .dataframe thead th {\n",
       "        text-align: right;\n",
       "    }\n",
       "</style>\n",
       "<table border=\"1\" class=\"dataframe\">\n",
       "  <thead>\n",
       "    <tr style=\"text-align: right;\">\n",
       "      <th></th>\n",
       "      <th>selftext</th>\n",
       "      <th>title</th>\n",
       "      <th>url</th>\n",
       "    </tr>\n",
       "  </thead>\n",
       "  <tbody>\n",
       "    <tr>\n",
       "      <th>0</th>\n",
       "      <td>0.0</td>\n",
       "      <td>1.0</td>\n",
       "      <td>0.0</td>\n",
       "    </tr>\n",
       "    <tr>\n",
       "      <th>1</th>\n",
       "      <td>1.0</td>\n",
       "      <td>0.0</td>\n",
       "      <td>0.0</td>\n",
       "    </tr>\n",
       "    <tr>\n",
       "      <th>2</th>\n",
       "      <td>0.0</td>\n",
       "      <td>0.0</td>\n",
       "      <td>1.0</td>\n",
       "    </tr>\n",
       "  </tbody>\n",
       "</table>\n",
       "</div>"
      ],
      "text/plain": [
       "   selftext  title  url\n",
       "0       0.0    1.0  0.0\n",
       "1       1.0    0.0  0.0\n",
       "2       0.0    0.0  1.0"
      ]
     },
     "execution_count": 54,
     "metadata": {},
     "output_type": "execute_result"
    }
   ],
   "source": [
    "X_train_tvec = pd.DataFrame(X_train_tvec, columns=tvec.get_feature_names())\n",
    "X_train_tvec.head()"
   ]
  },
  {
   "cell_type": "code",
   "execution_count": null,
   "metadata": {},
   "outputs": [],
   "source": []
  }
 ],
 "metadata": {
  "kernelspec": {
   "display_name": "Python 3",
   "language": "python",
   "name": "python3"
  },
  "language_info": {
   "codemirror_mode": {
    "name": "ipython",
    "version": 3
   },
   "file_extension": ".py",
   "mimetype": "text/x-python",
   "name": "python",
   "nbconvert_exporter": "python",
   "pygments_lexer": "ipython3",
   "version": "3.6.5"
  }
 },
 "nbformat": 4,
 "nbformat_minor": 2
}
