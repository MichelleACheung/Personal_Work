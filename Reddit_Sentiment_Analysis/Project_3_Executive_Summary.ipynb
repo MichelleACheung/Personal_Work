{
 "cells": [
  {
   "cell_type": "markdown",
   "metadata": {},
   "source": [
    "# **_Classifying Reddit Subreddits_**\n",
    "# Executive Summary\n",
    "\n",
    "---\n",
    "Michelle Cheung | April 2019"
   ]
  },
  {
   "cell_type": "markdown",
   "metadata": {},
   "source": [
    "Dialogue on Catholocism and Atheism spark contentious debates, formulating interesting opinions from both sides. In an open forum such as Reddit, both sides can fully express their stances on how religion affects our lives and culture.\n",
    "\n",
    "Classifying discussions on Catholicism and Atheism has demonstrated that there is overlapping content. There is complexity in identifying a model that can accurately predict which subreddit a discussion belongs to. However, through an iterative process and deep learning of the data, the resulting models were built with great accuracy."
   ]
  },
  {
   "cell_type": "markdown",
   "metadata": {},
   "source": [
    "Through extensive data exploration and preparation, multiple models were built to asses proper classification. Despite the shared verbage between the two classes, these models were 'tuned' and continuously analyzed in order to achieve high accuracy in predictions. Not only was word/phrase recurrence considered, but weighing of words/phrases in terms of frequency among discussions was investigated. Numerous metrics were applied to evaluate models, allowing further examination of the models imposed."
   ]
  },
  {
   "cell_type": "markdown",
   "metadata": {},
   "source": [
    "Resulting models yield accuracy rates of approximately 90%, demonstrating great performance as new data is collected. Accuracy is what was strived for, and is what we continue to aim for."
   ]
  }
 ],
 "metadata": {
  "kernelspec": {
   "display_name": "Python 3",
   "language": "python",
   "name": "python3"
  },
  "language_info": {
   "codemirror_mode": {
    "name": "ipython",
    "version": 3
   },
   "file_extension": ".py",
   "mimetype": "text/x-python",
   "name": "python",
   "nbconvert_exporter": "python",
   "pygments_lexer": "ipython3",
   "version": "3.6.5"
  }
 },
 "nbformat": 4,
 "nbformat_minor": 2
}
