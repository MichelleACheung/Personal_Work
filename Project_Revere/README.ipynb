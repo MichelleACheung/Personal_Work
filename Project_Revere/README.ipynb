{
 "cells": [
  {
   "cell_type": "markdown",
   "metadata": {},
   "source": [
    "# Detecting Anomalies in Municipal Expenditures\n",
    "---\n",
    "\n",
    "## Directory Structure\n",
    "---\n",
    "\n",
    "```\n",
    ".\n",
    "├── Final_Report.md\n",
    "├── README.md\n",
    "├── data\n",
    "├── notebooks\n",
    "\n",
    "```\n",
    "\n",
    "## Project Outline\n",
    "---\n",
    "\n",
    "Mangement of municipal finances yields large amounts of data annually. Detection of transaction anomoalies proves difficult with time and resources available given the amount of data.\n",
    "\n",
    "Data analytics and machine learning can help process and evaluate the large amount of municipal financial transactions to find means of cost efficiency as well as any outliers that may be of fraudulent nature.\n",
    "\n",
    "This project includes the in-depth analysis and machine learning of a municipal's financial accounts. Benford's Law was applied to explore the data and a DBSCAN clusterning algorithm was used as an additional anomaly detector.\n",
    "\n",
    "## Directory Outline\n",
    "---\n",
    "\n",
    "+ **Final_Report.md**\n",
    "> A technical summary of the project.\n",
    "\n",
    "+ **README.md**\n",
    "> Summary introduction to project.\n",
    "\n",
    "+ **data** folder\n",
    "> - An `XML` file is provided by the City of Revere, Massachusetts for the 2017 fiscal year (June 30, 2016 through July 1, 2017). Within this `XML` file, data includes all transactions seen by the City Auditor made in the reference fiscal year.\n",
    ">>`FY17 DETAIL HISTORY TB AS OF PERIOD 13.xlsx`\n",
    "> - An additional `XML` file is included which shows the amounts of outliers found per account with different values of DBSCAN epsilon values.\n",
    ">>`dbscan_eps.xlsx`\n",
    "\n",
    "+ **notebooks** folder\n",
    "> - Jupyter notebook which includes exploration, analysis, and modeling of data for anomaly detection.\n",
    ">> `2017FY_Data_and_Model.ipynb`\n"
   ]
  }
 ],
 "metadata": {
  "kernelspec": {
   "display_name": "Python 3",
   "language": "python",
   "name": "python3"
  },
  "language_info": {
   "codemirror_mode": {
    "name": "ipython",
    "version": 3
   },
   "file_extension": ".py",
   "mimetype": "text/x-python",
   "name": "python",
   "nbconvert_exporter": "python",
   "pygments_lexer": "ipython3",
   "version": "3.6.5"
  }
 },
 "nbformat": 4,
 "nbformat_minor": 2
}
