{
 "cells": [
  {
   "cell_type": "markdown",
   "metadata": {},
   "source": [
    "# Final Report: Detecting Anomalies in Municipal Expenditures\n",
    "---\n",
    "\n",
    "## Project Summary\n",
    "---\n",
    "\n",
    "Mangement of municipal finances yields large amounts of data annually. Detection of transaction anomoalies proves difficult with time and resources available given the amount of data.\n",
    "\n",
    "Data analytics and machine learning can help process and evaluate the large amount of municipal financial transactions to find means of cost efficiency as well as any outliers that may be of fraudulent nature.\n",
    "\n",
    "This project includes the in-depth analysis and machine learning of a municipal's financial accounts. Benford's Law was applied to explore the data and a DBSCAN clusterning algorithm was used as an additional anomaly detector.\n",
    "\n",
    "## Data\n",
    "---\n",
    "\n",
    "An `XML` file is provided by the City of Revere, Massachusetts for the 2017 fiscal year (June 30, 2016 through July 1, 2017). Within this `XML` file, data includes all transactions seen by the City Auditor made in the reference fiscal year.\n",
    "\n",
    "### Data Dictionary\n",
    "\n",
    "Column | Description | Note\n",
    ":--- | :---: | ---:\n",
    "ORG | Organization | -\n",
    "ACCOUNT | Accounting Code | -\n",
    "ACCOUNT DESC | Account Description | -\n",
    "YR/PR | Year/Period | Period = calendar month\n",
    "JNL | Journal | Journal Number\n",
    "EFF DATE | Effective Date | Effective date of transaction\n",
    "SRC | Source | -\n",
    "REF1 | Reference 1 | -\n",
    "REF2 | Reference 2 | -\n",
    "REF3 | Reference 3 | -\n",
    "CHECK # | Check Number | -\n",
    "OB | Object | -\n",
    "JOURNAL AMOUNT | Journal/Transaction Amount | -\n",
    "SOY BALANCE | Start of Year Balance | -\n",
    "NET LEDGER BALANCE | Net Ledger Balance | -\n",
    "ORIGINAL BUDGET | Original Budget | -\n",
    "REVISED BUDGET | Revised Budget | -\n",
    "NET BUDGET BALANCE | Net Budget Balance | -\n",
    "\n",
    "## Data Analysis by Benford's Law\n",
    "---\n",
    "\n",
    "## Data Processing and Modeling by DBSCAN\n",
    "---\n",
    "\n",
    "## Summary\n",
    "---\n",
    "\n",
    "### Anomalies found by Benford's Law\n",
    "\n",
    "\n",
    "### Anomalies found by DBSCAN Model\n",
    "\n",
    "\n",
    "### Common anomalies between Benford's Law Analysis and DBSCAN Model\n",
    "\n",
    "\n",
    "## Future Evaluation\n",
    "---\n",
    "\n"
   ]
  },
  {
   "cell_type": "code",
   "execution_count": null,
   "metadata": {},
   "outputs": [],
   "source": []
  }
 ],
 "metadata": {
  "kernelspec": {
   "display_name": "Python 3",
   "language": "python",
   "name": "python3"
  },
  "language_info": {
   "codemirror_mode": {
    "name": "ipython",
    "version": 3
   },
   "file_extension": ".py",
   "mimetype": "text/x-python",
   "name": "python",
   "nbconvert_exporter": "python",
   "pygments_lexer": "ipython3",
   "version": "3.6.5"
  }
 },
 "nbformat": 4,
 "nbformat_minor": 2
}
