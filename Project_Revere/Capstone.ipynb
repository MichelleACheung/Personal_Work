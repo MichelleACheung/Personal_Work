{
 "cells": [
  {
   "cell_type": "code",
   "execution_count": 1,
   "metadata": {},
   "outputs": [],
   "source": [
    "import pandas as pd\n",
    "import numpy as np\n",
    "\n",
    "from sklearn.preprocessing import StandardScaler\n",
    "from sklearn.model_selection import train_test_split, cross_val_score\n",
    "\n",
    "import matplotlib.pyplot as plt\n",
    "import seaborn as sns\n",
    "\n",
    "%matplotlib inline\n",
    "\n",
    "pd.set_option('display.max_rows', None)\n",
    "pd.set_option('display.max_columns', None)\n"
   ]
  },
  {
   "cell_type": "markdown",
   "metadata": {},
   "source": [
    "# Read In FY2017 and FY2018 Data"
   ]
  },
  {
   "cell_type": "markdown",
   "metadata": {},
   "source": [
    "## FY2017 Year-to-Date"
   ]
  },
  {
   "cell_type": "code",
   "execution_count": null,
   "metadata": {},
   "outputs": [],
   "source": [
    "data_2017_ytd = pd.read_excel('./FY17 YTD BUD REPORT AS OF PER 13.xlsx')"
   ]
  },
  {
   "cell_type": "code",
   "execution_count": null,
   "metadata": {},
   "outputs": [],
   "source": [
    "data_2017_ytd.head()"
   ]
  },
  {
   "cell_type": "code",
   "execution_count": null,
   "metadata": {
    "scrolled": true
   },
   "outputs": [],
   "source": [
    "data_2017_ytd['DEPARTMENT'].value_counts()"
   ]
  },
  {
   "cell_type": "code",
   "execution_count": null,
   "metadata": {},
   "outputs": [],
   "source": [
    "data_2017_ytd.shape"
   ]
  },
  {
   "cell_type": "code",
   "execution_count": null,
   "metadata": {},
   "outputs": [],
   "source": [
    "data_2017_ytd.isnull().sum()"
   ]
  },
  {
   "cell_type": "code",
   "execution_count": null,
   "metadata": {},
   "outputs": [],
   "source": [
    "data_2017_ytd.dtypes"
   ]
  },
  {
   "cell_type": "markdown",
   "metadata": {},
   "source": [
    "## FY2017 Detailed History"
   ]
  },
  {
   "cell_type": "code",
   "execution_count": 2,
   "metadata": {},
   "outputs": [],
   "source": [
    "data_2017_detailed = pd.read_excel('./FY17 DETAIL HISTORY TB AS OF PERIOD 13.xlsx')"
   ]
  },
  {
   "cell_type": "code",
   "execution_count": 3,
   "metadata": {},
   "outputs": [
    {
     "data": {
      "text/html": [
       "<div>\n",
       "<style scoped>\n",
       "    .dataframe tbody tr th:only-of-type {\n",
       "        vertical-align: middle;\n",
       "    }\n",
       "\n",
       "    .dataframe tbody tr th {\n",
       "        vertical-align: top;\n",
       "    }\n",
       "\n",
       "    .dataframe thead th {\n",
       "        text-align: right;\n",
       "    }\n",
       "</style>\n",
       "<table border=\"1\" class=\"dataframe\">\n",
       "  <thead>\n",
       "    <tr style=\"text-align: right;\">\n",
       "      <th></th>\n",
       "      <th>ORG</th>\n",
       "      <th>ACCOUNT</th>\n",
       "      <th>ACCOUNT DESC</th>\n",
       "      <th>YR/PR</th>\n",
       "      <th>JNL</th>\n",
       "      <th>EFF DATE</th>\n",
       "      <th>SRC</th>\n",
       "      <th>REF1</th>\n",
       "      <th>REF2</th>\n",
       "      <th>REF3</th>\n",
       "      <th>CHECK #</th>\n",
       "      <th>OB</th>\n",
       "      <th>JOURNAL AMOUNT</th>\n",
       "      <th>SOY BALANCE</th>\n",
       "      <th>NET LEDGER BALANCE</th>\n",
       "      <th>ORIGINAL BUDGET</th>\n",
       "      <th>REVISED BUDGET</th>\n",
       "      <th>NET BUDGET BALANCE</th>\n",
       "    </tr>\n",
       "  </thead>\n",
       "  <tbody>\n",
       "    <tr>\n",
       "      <th>0</th>\n",
       "      <td>0</td>\n",
       "      <td>0000-000-104000-</td>\n",
       "      <td>CASH AND INVESTMENTS-TREASURER</td>\n",
       "      <td>17/</td>\n",
       "      <td>5</td>\n",
       "      <td>07/01/16</td>\n",
       "      <td>SOY</td>\n",
       "      <td>NaN</td>\n",
       "      <td>NaN</td>\n",
       "      <td>NaN</td>\n",
       "      <td>NaN</td>\n",
       "      <td>NaN</td>\n",
       "      <td>0.0</td>\n",
       "      <td>0.0</td>\n",
       "      <td>0.0</td>\n",
       "      <td>NaN</td>\n",
       "      <td>NaN</td>\n",
       "      <td>NaN</td>\n",
       "    </tr>\n",
       "    <tr>\n",
       "      <th>1</th>\n",
       "      <td>0</td>\n",
       "      <td>0000-000-169000-</td>\n",
       "      <td>DUE FROM GENERAL FUND</td>\n",
       "      <td>17/</td>\n",
       "      <td>5</td>\n",
       "      <td>07/01/16</td>\n",
       "      <td>SOY</td>\n",
       "      <td>NaN</td>\n",
       "      <td>NaN</td>\n",
       "      <td>NaN</td>\n",
       "      <td>NaN</td>\n",
       "      <td>NaN</td>\n",
       "      <td>0.0</td>\n",
       "      <td>0.0</td>\n",
       "      <td>0.0</td>\n",
       "      <td>NaN</td>\n",
       "      <td>NaN</td>\n",
       "      <td>NaN</td>\n",
       "    </tr>\n",
       "    <tr>\n",
       "      <th>2</th>\n",
       "      <td>0</td>\n",
       "      <td>0000-000-202000-</td>\n",
       "      <td>ACCOUNTS PAYABLE</td>\n",
       "      <td>17/</td>\n",
       "      <td>5</td>\n",
       "      <td>07/01/16</td>\n",
       "      <td>SOY</td>\n",
       "      <td>NaN</td>\n",
       "      <td>NaN</td>\n",
       "      <td>NaN</td>\n",
       "      <td>NaN</td>\n",
       "      <td>NaN</td>\n",
       "      <td>0.0</td>\n",
       "      <td>0.0</td>\n",
       "      <td>0.0</td>\n",
       "      <td>NaN</td>\n",
       "      <td>NaN</td>\n",
       "      <td>NaN</td>\n",
       "    </tr>\n",
       "    <tr>\n",
       "      <th>3</th>\n",
       "      <td>0</td>\n",
       "      <td>0000-000-231000-</td>\n",
       "      <td>DUE TO GENERAL FUND</td>\n",
       "      <td>17/</td>\n",
       "      <td>5</td>\n",
       "      <td>07/01/16</td>\n",
       "      <td>SOY</td>\n",
       "      <td>NaN</td>\n",
       "      <td>NaN</td>\n",
       "      <td>NaN</td>\n",
       "      <td>NaN</td>\n",
       "      <td>NaN</td>\n",
       "      <td>0.0</td>\n",
       "      <td>0.0</td>\n",
       "      <td>0.0</td>\n",
       "      <td>NaN</td>\n",
       "      <td>NaN</td>\n",
       "      <td>NaN</td>\n",
       "    </tr>\n",
       "    <tr>\n",
       "      <th>4</th>\n",
       "      <td>0</td>\n",
       "      <td>0000-000-258000-</td>\n",
       "      <td>MISCELLANEOUS LIABILITIES</td>\n",
       "      <td>17/</td>\n",
       "      <td>5</td>\n",
       "      <td>07/01/16</td>\n",
       "      <td>SOY</td>\n",
       "      <td>NaN</td>\n",
       "      <td>NaN</td>\n",
       "      <td>NaN</td>\n",
       "      <td>NaN</td>\n",
       "      <td>NaN</td>\n",
       "      <td>0.0</td>\n",
       "      <td>0.0</td>\n",
       "      <td>0.0</td>\n",
       "      <td>NaN</td>\n",
       "      <td>NaN</td>\n",
       "      <td>NaN</td>\n",
       "    </tr>\n",
       "  </tbody>\n",
       "</table>\n",
       "</div>"
      ],
      "text/plain": [
       "   ORG           ACCOUNT                    ACCOUNT DESC YR/PR  JNL  EFF DATE  \\\n",
       "0    0  0000-000-104000-  CASH AND INVESTMENTS-TREASURER   17/    5  07/01/16   \n",
       "1    0  0000-000-169000-           DUE FROM GENERAL FUND   17/    5  07/01/16   \n",
       "2    0  0000-000-202000-                ACCOUNTS PAYABLE   17/    5  07/01/16   \n",
       "3    0  0000-000-231000-             DUE TO GENERAL FUND   17/    5  07/01/16   \n",
       "4    0  0000-000-258000-       MISCELLANEOUS LIABILITIES   17/    5  07/01/16   \n",
       "\n",
       "   SRC REF1 REF2 REF3  CHECK #   OB  JOURNAL AMOUNT  SOY BALANCE  \\\n",
       "0  SOY  NaN  NaN  NaN      NaN  NaN             0.0          0.0   \n",
       "1  SOY  NaN  NaN  NaN      NaN  NaN             0.0          0.0   \n",
       "2  SOY  NaN  NaN  NaN      NaN  NaN             0.0          0.0   \n",
       "3  SOY  NaN  NaN  NaN      NaN  NaN             0.0          0.0   \n",
       "4  SOY  NaN  NaN  NaN      NaN  NaN             0.0          0.0   \n",
       "\n",
       "   NET LEDGER BALANCE  ORIGINAL BUDGET  REVISED BUDGET  NET BUDGET BALANCE  \n",
       "0                 0.0              NaN             NaN                 NaN  \n",
       "1                 0.0              NaN             NaN                 NaN  \n",
       "2                 0.0              NaN             NaN                 NaN  \n",
       "3                 0.0              NaN             NaN                 NaN  \n",
       "4                 0.0              NaN             NaN                 NaN  "
      ]
     },
     "execution_count": 3,
     "metadata": {},
     "output_type": "execute_result"
    }
   ],
   "source": [
    "data_2017_detailed.head()"
   ]
  },
  {
   "cell_type": "markdown",
   "metadata": {},
   "source": [
    "## Exploratory Data Analysis"
   ]
  },
  {
   "cell_type": "code",
   "execution_count": null,
   "metadata": {
    "scrolled": true
   },
   "outputs": [],
   "source": [
    "data_2017_detailed['ACCOUNT'].value_counts()"
   ]
  },
  {
   "cell_type": "code",
   "execution_count": null,
   "metadata": {},
   "outputs": [],
   "source": [
    "data_2017_detailed['ORG'].value_counts()"
   ]
  },
  {
   "cell_type": "code",
   "execution_count": null,
   "metadata": {},
   "outputs": [],
   "source": [
    "data_2017_detailed[data_2017_detailed['ACCOUNT'] == ('0000-000-104000-')]"
   ]
  },
  {
   "cell_type": "code",
   "execution_count": null,
   "metadata": {},
   "outputs": [],
   "source": [
    "data_2017_detailed[['ACCOUNT']].filter(items='184', axis=0)"
   ]
  },
  {
   "cell_type": "code",
   "execution_count": null,
   "metadata": {},
   "outputs": [],
   "source": [
    "data_2017_detailed[data_2017_detailed['ACCOUNT'].str.contains([dept_list]) == False]"
   ]
  },
  {
   "cell_type": "code",
   "execution_count": null,
   "metadata": {},
   "outputs": [],
   "source": [
    "dept_list = ['111',\n",
    "             '121',\n",
    "             '122',\n",
    "             '125',\n",
    "             '127',\n",
    "             '135',\n",
    "             '138',\n",
    "             '140',\n",
    "             '141',\n",
    "             '145',\n",
    "             '151',\n",
    "             '161',\n",
    "             '162',\n",
    "             '165',\n",
    "             '171',\n",
    "             '176',\n",
    "             '182',\n",
    "             '184',\n",
    "             '210',\n",
    "             '211',\n",
    "             '220',\n",
    "             '230',\n",
    "             '241',\n",
    "             '244',\n",
    "             '291',\n",
    "             '295',\n",
    "             '300',\n",
    "             '420',\n",
    "             '521',\n",
    "             '522',\n",
    "             '524',\n",
    "             '525',\n",
    "             '541',\n",
    "             '543',\n",
    "             '549',\n",
    "             '590',\n",
    "             '610',\n",
    "             '650',\n",
    "             '710',\n",
    "             '751',\n",
    "             '752',\n",
    "             '900',\n",
    "             '911'\n",
    "            ]"
   ]
  },
  {
   "cell_type": "code",
   "execution_count": null,
   "metadata": {},
   "outputs": [],
   "source": [
    "inact_accounts_df = data_2017_detailed[~data_2017_detailed.ACCOUNT.isin(dept_list)]"
   ]
  },
  {
   "cell_type": "code",
   "execution_count": null,
   "metadata": {},
   "outputs": [],
   "source": [
    "inact_accounts_df.shape"
   ]
  },
  {
   "cell_type": "code",
   "execution_count": null,
   "metadata": {},
   "outputs": [],
   "source": [
    "dept_list = [111,\n",
    "             121,\n",
    "             122,\n",
    "             125,\n",
    "             127,\n",
    "             135,\n",
    "             138,\n",
    "             140,\n",
    "             141,\n",
    "             145,\n",
    "             151,\n",
    "             161,\n",
    "             162,\n",
    "             165,\n",
    "             171,\n",
    "             176,\n",
    "             182,\n",
    "             184,\n",
    "             210,\n",
    "             211,\n",
    "             220,\n",
    "             230,\n",
    "             241,\n",
    "             244,\n",
    "             291,\n",
    "             295,\n",
    "             300,\n",
    "             420,\n",
    "             521,\n",
    "             522,\n",
    "             524,\n",
    "             525,\n",
    "             541,\n",
    "             543,\n",
    "             549,\n",
    "             590,\n",
    "             610,\n",
    "             650,\n",
    "             710,\n",
    "             751,\n",
    "             752,\n",
    "             900,\n",
    "             911\n",
    "            ]"
   ]
  },
  {
   "cell_type": "code",
   "execution_count": null,
   "metadata": {},
   "outputs": [],
   "source": [
    "data_2017_detailed['ACCOUNT DESC'].value_counts()"
   ]
  },
  {
   "cell_type": "code",
   "execution_count": null,
   "metadata": {
    "scrolled": false
   },
   "outputs": [],
   "source": [
    "data_2017_detailed.shape"
   ]
  },
  {
   "cell_type": "code",
   "execution_count": null,
   "metadata": {},
   "outputs": [],
   "source": [
    "data_2017_detailed.isnull().sum()"
   ]
  },
  {
   "cell_type": "code",
   "execution_count": null,
   "metadata": {},
   "outputs": [],
   "source": [
    "data_2017_detailed.dtypes"
   ]
  },
  {
   "cell_type": "markdown",
   "metadata": {},
   "source": [
    "## FY2018 Year-to-Date"
   ]
  },
  {
   "cell_type": "code",
   "execution_count": null,
   "metadata": {},
   "outputs": [],
   "source": [
    "data_2018_ytd = pd.read_excel('./FY18 YTD BUD REPORT AS OF 10_19 PER 13.xlsx')"
   ]
  },
  {
   "cell_type": "code",
   "execution_count": null,
   "metadata": {},
   "outputs": [],
   "source": [
    "data_2018_ytd.head()"
   ]
  },
  {
   "cell_type": "code",
   "execution_count": null,
   "metadata": {},
   "outputs": [],
   "source": [
    "data_2018_ytd.shape"
   ]
  },
  {
   "cell_type": "code",
   "execution_count": null,
   "metadata": {},
   "outputs": [],
   "source": [
    "data_2018_ytd.isnull().sum()"
   ]
  },
  {
   "cell_type": "code",
   "execution_count": null,
   "metadata": {},
   "outputs": [],
   "source": [
    "data_2018_ytd.dtypes"
   ]
  },
  {
   "cell_type": "code",
   "execution_count": null,
   "metadata": {},
   "outputs": [],
   "source": []
  }
 ],
 "metadata": {
  "kernelspec": {
   "display_name": "Python 3",
   "language": "python",
   "name": "python3"
  },
  "language_info": {
   "codemirror_mode": {
    "name": "ipython",
    "version": 3
   },
   "file_extension": ".py",
   "mimetype": "text/x-python",
   "name": "python",
   "nbconvert_exporter": "python",
   "pygments_lexer": "ipython3",
   "version": "3.6.5"
  }
 },
 "nbformat": 4,
 "nbformat_minor": 2
}
